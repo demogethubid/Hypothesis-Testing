{
 "cells": [
  {
   "cell_type": "code",
   "execution_count": 6,
   "id": "1bfc8d91",
   "metadata": {},
   "outputs": [],
   "source": [
    "import pandas as pd\n",
    "import numpy as np\n",
    "from scipy import stats\n",
    "from scipy.stats import chi2_contingency"
   ]
  },
  {
   "cell_type": "code",
   "execution_count": 2,
   "id": "9d77b45f",
   "metadata": {},
   "outputs": [
    {
     "data": {
      "text/plain": [
       "'Here we are defining Hypothesis testing on data to find if male-female buyer rations are similar across regions.\\nIn this case we used Chi-square test.\\nSo, we define two hypothesis...\\n1. Null hypothesis- H0: there is no relation between the variables\\n2. Alternative hypothesis- H1: there is significant relation between two variables'"
      ]
     },
     "execution_count": 2,
     "metadata": {},
     "output_type": "execute_result"
    }
   ],
   "source": [
    "'''Here we are defining Hypothesis testing on data to find if male-female buyer rations are similar across regions.\n",
    "In this case we used Chi-square test.\n",
    "So, we define two hypothesis...\n",
    "1. Null hypothesis- H0: there is no relation between the variables\n",
    "2. Alternative hypothesis- H1: there is significant relation between two variables'''"
   ]
  },
  {
   "cell_type": "code",
   "execution_count": 5,
   "id": "61330bed",
   "metadata": {},
   "outputs": [
    {
     "data": {
      "text/html": [
       "<div>\n",
       "<style scoped>\n",
       "    .dataframe tbody tr th:only-of-type {\n",
       "        vertical-align: middle;\n",
       "    }\n",
       "\n",
       "    .dataframe tbody tr th {\n",
       "        vertical-align: top;\n",
       "    }\n",
       "\n",
       "    .dataframe thead th {\n",
       "        text-align: right;\n",
       "    }\n",
       "</style>\n",
       "<table border=\"1\" class=\"dataframe\">\n",
       "  <thead>\n",
       "    <tr style=\"text-align: right;\">\n",
       "      <th></th>\n",
       "      <th>Observed Values</th>\n",
       "      <th>East</th>\n",
       "      <th>West</th>\n",
       "      <th>North</th>\n",
       "      <th>South</th>\n",
       "    </tr>\n",
       "  </thead>\n",
       "  <tbody>\n",
       "    <tr>\n",
       "      <th>0</th>\n",
       "      <td>Males</td>\n",
       "      <td>50</td>\n",
       "      <td>142</td>\n",
       "      <td>131</td>\n",
       "      <td>70</td>\n",
       "    </tr>\n",
       "    <tr>\n",
       "      <th>1</th>\n",
       "      <td>Females</td>\n",
       "      <td>435</td>\n",
       "      <td>1523</td>\n",
       "      <td>1356</td>\n",
       "      <td>750</td>\n",
       "    </tr>\n",
       "  </tbody>\n",
       "</table>\n",
       "</div>"
      ],
      "text/plain": [
       "  Observed Values  East  West  North  South\n",
       "0           Males    50   142    131     70\n",
       "1         Females   435  1523   1356    750"
      ]
     },
     "execution_count": 5,
     "metadata": {},
     "output_type": "execute_result"
    }
   ],
   "source": [
    "data=pd.read_csv('BuyerRatio.csv')\n",
    "data"
   ]
  },
  {
   "cell_type": "code",
   "execution_count": 8,
   "id": "5869eef1",
   "metadata": {},
   "outputs": [
    {
     "data": {
      "text/plain": [
       "array([[  50,  142,  131,   70],\n",
       "       [ 435, 1523, 1356,  750]])"
      ]
     },
     "execution_count": 8,
     "metadata": {},
     "output_type": "execute_result"
    }
   ],
   "source": [
    "# Make dimensional array\n",
    "data1=np.array([[50,142,131,70],[435,1523,1356,750]])\n",
    "data1"
   ]
  },
  {
   "cell_type": "code",
   "execution_count": 30,
   "id": "8fb12b05",
   "metadata": {
    "scrolled": true
   },
   "outputs": [
    {
     "name": "stdout",
     "output_type": "stream",
     "text": [
      "Chi2 stats value is : 1.595945538661058 \n",
      "P-vlaue is : 0.6603094907091882 \n",
      "Degree of Freedom is : 3 \n",
      "Expected value is : [[  42.76531299  146.81287862  131.11756787   72.30424052]\n",
      " [ 442.23468701 1518.18712138 1355.88243213  747.69575948]]\n"
     ]
    }
   ],
   "source": [
    "stat,p,dof,expected=chi2_contingency(data1)\n",
    "print(\"Chi2 stats value is :\",stat,\n",
    "     \"\\nP-vlaue is :\",p,\n",
    "     \"\\nDegree of Freedom is :\",dof,\n",
    "     \"\\nExpected value is :\",expected)"
   ]
  },
  {
   "cell_type": "code",
   "execution_count": 29,
   "id": "35e25453",
   "metadata": {},
   "outputs": [
    {
     "name": "stdout",
     "output_type": "stream",
     "text": [
      "P-value is :0.6603094907091882\n",
      "Independent(H0 holds true)\n"
     ]
    }
   ],
   "source": [
    "#interpret p value\n",
    "\n",
    "alpha=0.05\n",
    "print(\"P-value is :\" + str(p))\n",
    "if p<=alpha:\n",
    "    print('Dependent(reject H0)')\n",
    "else:\n",
    "    print('Independent(H0 holds true)')"
   ]
  },
  {
   "cell_type": "code",
   "execution_count": null,
   "id": "8b111242",
   "metadata": {},
   "outputs": [],
   "source": [
    "'''As we can see that the p value is greater than alpha value\n",
    "So,we fail to reject Null Hypothesis \n",
    "Which means that there is no relation between the variables.'''"
   ]
  }
 ],
 "metadata": {
  "kernelspec": {
   "display_name": "Python 3 (ipykernel)",
   "language": "python",
   "name": "python3"
  },
  "language_info": {
   "codemirror_mode": {
    "name": "ipython",
    "version": 3
   },
   "file_extension": ".py",
   "mimetype": "text/x-python",
   "name": "python",
   "nbconvert_exporter": "python",
   "pygments_lexer": "ipython3",
   "version": "3.9.13"
  }
 },
 "nbformat": 4,
 "nbformat_minor": 5
}
